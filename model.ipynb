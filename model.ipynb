{
 "cells": [
  {
   "cell_type": "code",
   "execution_count": 2,
   "metadata": {},
   "outputs": [],
   "source": [
    "import pandas as pd\n",
    "import numpy as np\n",
    "import torch\n",
    "import torch.nn as nn\n",
    "import torch.optim as optim\n",
    "from torch.utils.data import Dataset, DataLoader\n",
    "import torch.nn.functional as F\n",
    "import os"
   ]
  },
  {
   "cell_type": "code",
   "execution_count": 31,
   "metadata": {},
   "outputs": [],
   "source": [
    "#Reverse the data\n",
    "data = pd.read_csv('data.csv').iloc[::-1].reset_index(drop=True)"
   ]
  },
  {
   "cell_type": "code",
   "execution_count": 35,
   "metadata": {},
   "outputs": [],
   "source": [
    "class MyDataset(Dataset):\n",
    "    def __init__(self, data):\n",
    "        self.data = torch.tensor(data.drop(columns=['timestamp']).values, dtype=torch.float32)\n",
    "    def __len__(self):\n",
    "        return len(self.data)-25\n",
    "    def __getitem__(self, idx):\n",
    "        x = self.data[idx:idx+25, :]\n",
    "        y = self.data[idx+25, list(range(0, 80, 5))]\n",
    "        return x, y\n",
    "dataset = MyDataset(data)        "
   ]
  },
  {
   "cell_type": "code",
   "execution_count": 42,
   "metadata": {},
   "outputs": [
    {
     "data": {
      "text/plain": [
       "torch.Size([25, 130])"
      ]
     },
     "execution_count": 42,
     "metadata": {},
     "output_type": "execute_result"
    }
   ],
   "source": [
    "x,_=dataset[1]\n",
    "x.size()"
   ]
  },
  {
   "cell_type": "code",
   "execution_count": 45,
   "metadata": {},
   "outputs": [],
   "source": [
    "#Split the data\n",
    "train_set, val_set = torch.utils.data.random_split(dataset, [0.8,0.2])\n",
    "val_load = DataLoader(val_set, batch_size=len(val_set), shuffle=False)\n",
    "train_load = DataLoader(train_set, batch_size=64, shuffle=True)\n",
    "x_val, y_val = next(iter(val_load))"
   ]
  },
  {
   "cell_type": "code",
   "execution_count": 43,
   "metadata": {},
   "outputs": [],
   "source": [
    "#Batch first positional encoding\n",
    "class position_encoding(nn.Module):\n",
    "    def __init__(self, d_model, max_len=25):\n",
    "        super(position_encoding, self).__init__()\n",
    "        self.d_model = d_model\n",
    "        pe = torch.zeros(max_len, d_model)\n",
    "        position = torch.arange(0, max_len, dtype=torch.float).unsqueeze(1)\n",
    "        div_term = torch.exp(torch.arange(0, d_model, 2).float() * (-np.log(10000.0) / d_model))\n",
    "        pe[:, 0::2] = torch.sin(position * div_term)\n",
    "        pe[:, 1::2] = torch.cos(position * div_term)\n",
    "        pe = pe.unsqueeze(0)\n",
    "    \n",
    "    def forward(self, x):\n",
    "        return x + self.pe[:, :x.size(1)]"
   ]
  },
  {
   "cell_type": "code",
   "execution_count": 44,
   "metadata": {},
   "outputs": [],
   "source": [
    "class attention_model(nn.Module):\n",
    "    def __init__(self):\n",
    "        super(attention_model, self).__init__()\n",
    "        self.bn1 = nn.BatchNorm2d(130)\n",
    "        self.position_encoder = position_encoding(130)\n",
    "        self.decoder_layer = nn.TransformerDecoderLayer(d_model=130, nhead=5,batch_first=True)\n",
    "        self.decoder = nn.TransformerDecoder(self.decoder_layer, num_layers=2)\n",
    "        self.fc = nn.Linear(130, 17)\n",
    "    def forward(self, x):\n",
    "        x = self.bn1(x)\n",
    "        x = self.position_encoder(x)\n",
    "        x = self.decoder(x)\n",
    "        x = self.fc(x)\n",
    "        return x\n",
    "model1 = attention_model()"
   ]
  },
  {
   "cell_type": "code",
   "execution_count": 46,
   "metadata": {},
   "outputs": [],
   "source": [
    "def loss(x, y_pred, y_true):\n",
    "    split = F.softmax(y_pred, dim=1)\n",
    "    x_value = x[:, 24, list(range(0, 80, 5))]\n",
    "    ratio = y_true/x_value\n",
    "    gain = ratio * split[:,:-1].sum(dim=1).meam()\n",
    "    return -gain"
   ]
  },
  {
   "cell_type": "code",
   "execution_count": 47,
   "metadata": {},
   "outputs": [],
   "source": [
    "@torch.no_grad()\n",
    "def val_loss():\n",
    "    model1.eval()\n",
    "    preds = model1(x_val)\n",
    "    model1.train()\n",
    "    return loss(x_val, preds, y_val).item()"
   ]
  },
  {
   "cell_type": "code",
   "execution_count": 50,
   "metadata": {},
   "outputs": [],
   "source": [
    "optimizer = optim.Adam(model1.parameters(), lr=0.01, weight_decay=0.001)\n",
    "scheduler = optim.scheduler.StepLR(optimizer, step_size=30, gamma=0.1)"
   ]
  },
  {
   "cell_type": "code",
   "execution_count": null,
   "metadata": {},
   "outputs": [],
   "source": [
    "def train_one_epoch(epoch):\n",
    "    model1.train()\n",
    "    total_loss = 0\n",
    "    for i in train_load:\n",
    "        model1.train()\n",
    "        optimizer.zero_grad()\n",
    "        features, targets = i\n",
    "        features=features.to('cuda')\n",
    "        targets=targets.to('cuda')\n",
    "        preds = model1(features)\n",
    "        loss = loss(features, preds, targets)\n",
    "        loss.backward()\n",
    "        optimizer.step()\n",
    "        total_loss += loss.item()*features.shape[0]\n",
    "    scheduler.step(val_loss())\n",
    "    val=float(val_loss())\n",
    "    writer.add_scalar('validation loss', val, epoch)\n",
    "    return f\"loss: {total_loss / len(train_set)}\\n val_loss: {val}\\n\""
   ]
  }
 ],
 "metadata": {
  "kernelspec": {
   "display_name": "project2",
   "language": "python",
   "name": "python3"
  },
  "language_info": {
   "codemirror_mode": {
    "name": "ipython",
    "version": 3
   },
   "file_extension": ".py",
   "mimetype": "text/x-python",
   "name": "python",
   "nbconvert_exporter": "python",
   "pygments_lexer": "ipython3",
   "version": "3.11.4"
  }
 },
 "nbformat": 4,
 "nbformat_minor": 2
}
